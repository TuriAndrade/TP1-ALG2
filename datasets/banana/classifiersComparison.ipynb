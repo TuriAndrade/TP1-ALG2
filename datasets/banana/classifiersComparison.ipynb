{
 "cells": [
  {
   "cell_type": "markdown",
   "metadata": {},
   "source": [
    "#### Impedindo notebook de escrever bytecode"
   ]
  },
  {
   "cell_type": "code",
   "execution_count": 1,
   "metadata": {},
   "outputs": [],
   "source": [
    "import sys\n",
    "sys.dont_write_bytecode = True"
   ]
  },
  {
   "cell_type": "markdown",
   "metadata": {},
   "source": [
    "#### Inserindo caminho dos módulos em sys.path"
   ]
  },
  {
   "cell_type": "code",
   "execution_count": 2,
   "metadata": {},
   "outputs": [],
   "source": [
    "import pathlib\n",
    "import os\n",
    "sys.path.append(str(pathlib.Path(os.getcwd()).parent.parent.resolve()))"
   ]
  },
  {
   "cell_type": "markdown",
   "metadata": {},
   "source": [
    "#### Importando módulos"
   ]
  },
  {
   "cell_type": "code",
   "execution_count": 3,
   "metadata": {},
   "outputs": [],
   "source": [
    "from modules.point import PointDataset\n",
    "from modules.classifier import ConvexHullClassifier, KNNClassifier, ClassifiersComparison\n",
    "from random import choices\n",
    "import pandas as pd\n",
    "import numpy as np\n",
    "import matplotlib.pyplot as plt"
   ]
  },
  {
   "cell_type": "markdown",
   "metadata": {},
   "source": [
    "#### Lendo dataset"
   ]
  },
  {
   "cell_type": "code",
   "execution_count": 4,
   "metadata": {},
   "outputs": [],
   "source": [
    "dataset = PointDataset(\"./data.dat\")\n",
    "points = dataset.getPoints()"
   ]
  },
  {
   "cell_type": "markdown",
   "metadata": {},
   "source": [
    "#### Criando construtor de instância do classificador baseado em envoltória convexa para as features (0, 1)"
   ]
  },
  {
   "cell_type": "code",
   "execution_count": 5,
   "metadata": {},
   "outputs": [],
   "source": [
    "CHclf = ConvexHullClassifier.buildInstance(coordinate1=0, coordinate2=1, nFolds=5)"
   ]
  },
  {
   "cell_type": "markdown",
   "metadata": {},
   "source": [
    "#### Criando construtor de instância do classificador KNN com otimização iterativa do número de vizinhos"
   ]
  },
  {
   "cell_type": "markdown",
   "metadata": {},
   "source": [
    "A otimização é feita da seguinte forma: validação cruzada com 5 folds é executada para classificador, variando o número de vizinhos de 1 a _maxK_. É escolhido o número de vizinhos que apresenta a melhor _F1 Score_ média entre os folds. Se _makK_ não for passado, _maxK_ é igual à raíz quadrada do tamanho do dataset."
   ]
  },
  {
   "cell_type": "code",
   "execution_count": 6,
   "metadata": {},
   "outputs": [],
   "source": [
    "KNNclf = KNNClassifier.buildInstance(maxK=30, nFolds=5)"
   ]
  },
  {
   "cell_type": "markdown",
   "metadata": {},
   "source": [
    "#### Comparação da diferença média para as métricas _Precisão_, _Sensibilidade_, _F1 Score_ e _Acurácia_ entre os classificadores par a par"
   ]
  },
  {
   "cell_type": "markdown",
   "metadata": {},
   "source": [
    "Para efeutar a comparação, um bootstrapping foi feito usando 100 amostras com reposição e 100 indivíduos em cada uma delas."
   ]
  },
  {
   "cell_type": "code",
   "execution_count": 7,
   "metadata": {},
   "outputs": [
    {
     "name": "stderr",
     "output_type": "stream",
     "text": [
      "/home/turi/aulas/5sem/ALG2/TP1/modules/classifier/classifier.py:61: RuntimeWarning: invalid value encountered in long_scalars\n",
      "  precision: float = confusionMatrix[0][0] / \\\n",
      "/home/turi/aulas/5sem/ALG2/TP1/modules/classifier/classifier.py:82: RuntimeWarning: invalid value encountered in double_scalars\n",
      "  f1 = (2*precision*recall)/(precision + recall)\n",
      "/home/turi/aulas/5sem/ALG2/TP1/modules/classifier/classifier.py:70: RuntimeWarning: invalid value encountered in long_scalars\n",
      "  recall: float = confusionMatrix[0][0] / \\\n",
      "/home/turi/aulas/5sem/ALG2/TP1/modules/classifier/classifier.py:82: RuntimeWarning: invalid value encountered in double_scalars\n",
      "  f1 = (2*precision*recall)/(precision + recall)\n",
      "/home/turi/aulas/5sem/ALG2/TP1/modules/classifier/classifier.py:61: RuntimeWarning: invalid value encountered in long_scalars\n",
      "  precision: float = confusionMatrix[0][0] / \\\n",
      "/home/turi/aulas/5sem/ALG2/TP1/modules/classifier/classifier.py:70: RuntimeWarning: invalid value encountered in long_scalars\n",
      "  recall: float = confusionMatrix[0][0] / \\\n"
     ]
    },
    {
     "data": {
      "text/html": [
       "<div>\n",
       "<style scoped>\n",
       "    .dataframe tbody tr th:only-of-type {\n",
       "        vertical-align: middle;\n",
       "    }\n",
       "\n",
       "    .dataframe tbody tr th {\n",
       "        vertical-align: top;\n",
       "    }\n",
       "\n",
       "    .dataframe thead th {\n",
       "        text-align: right;\n",
       "    }\n",
       "</style>\n",
       "<table border=\"1\" class=\"dataframe\">\n",
       "  <thead>\n",
       "    <tr style=\"text-align: right;\">\n",
       "      <th></th>\n",
       "      <th>Precision</th>\n",
       "      <th>Recall</th>\n",
       "      <th>F1</th>\n",
       "      <th>Accuracy</th>\n",
       "      <th>Label</th>\n",
       "    </tr>\n",
       "  </thead>\n",
       "  <tbody>\n",
       "    <tr>\n",
       "      <th>0</th>\n",
       "      <td>-0.090909</td>\n",
       "      <td>0.514286</td>\n",
       "      <td>-0.090909</td>\n",
       "      <td>0.100000</td>\n",
       "      <td>KNNClassifier/ConvexHullClassifier</td>\n",
       "    </tr>\n",
       "    <tr>\n",
       "      <th>1</th>\n",
       "      <td>0.833333</td>\n",
       "      <td>0.714286</td>\n",
       "      <td>NaN</td>\n",
       "      <td>0.366667</td>\n",
       "      <td>KNNClassifier/ConvexHullClassifier</td>\n",
       "    </tr>\n",
       "    <tr>\n",
       "      <th>2</th>\n",
       "      <td>NaN</td>\n",
       "      <td>0.733333</td>\n",
       "      <td>NaN</td>\n",
       "      <td>0.366667</td>\n",
       "      <td>KNNClassifier/ConvexHullClassifier</td>\n",
       "    </tr>\n",
       "    <tr>\n",
       "      <th>3</th>\n",
       "      <td>0.482353</td>\n",
       "      <td>0.615686</td>\n",
       "      <td>0.482353</td>\n",
       "      <td>0.433333</td>\n",
       "      <td>KNNClassifier/ConvexHullClassifier</td>\n",
       "    </tr>\n",
       "    <tr>\n",
       "      <th>4</th>\n",
       "      <td>0.631579</td>\n",
       "      <td>0.104396</td>\n",
       "      <td>0.631579</td>\n",
       "      <td>0.433333</td>\n",
       "      <td>KNNClassifier/ConvexHullClassifier</td>\n",
       "    </tr>\n",
       "    <tr>\n",
       "      <th>...</th>\n",
       "      <td>...</td>\n",
       "      <td>...</td>\n",
       "      <td>...</td>\n",
       "      <td>...</td>\n",
       "      <td>...</td>\n",
       "    </tr>\n",
       "    <tr>\n",
       "      <th>195</th>\n",
       "      <td>-0.600000</td>\n",
       "      <td>-0.318182</td>\n",
       "      <td>-0.600000</td>\n",
       "      <td>-0.233333</td>\n",
       "      <td>ConvexHullClassifier/KNNClassifier</td>\n",
       "    </tr>\n",
       "    <tr>\n",
       "      <th>196</th>\n",
       "      <td>-0.300000</td>\n",
       "      <td>-0.478022</td>\n",
       "      <td>-0.300000</td>\n",
       "      <td>-0.266667</td>\n",
       "      <td>ConvexHullClassifier/KNNClassifier</td>\n",
       "    </tr>\n",
       "    <tr>\n",
       "      <th>197</th>\n",
       "      <td>-0.357143</td>\n",
       "      <td>-0.554656</td>\n",
       "      <td>-0.357143</td>\n",
       "      <td>-0.133333</td>\n",
       "      <td>ConvexHullClassifier/KNNClassifier</td>\n",
       "    </tr>\n",
       "    <tr>\n",
       "      <th>198</th>\n",
       "      <td>-0.140271</td>\n",
       "      <td>-0.046154</td>\n",
       "      <td>-0.140271</td>\n",
       "      <td>-0.133333</td>\n",
       "      <td>ConvexHullClassifier/KNNClassifier</td>\n",
       "    </tr>\n",
       "    <tr>\n",
       "      <th>199</th>\n",
       "      <td>-0.625000</td>\n",
       "      <td>-0.659091</td>\n",
       "      <td>-0.625000</td>\n",
       "      <td>-0.433333</td>\n",
       "      <td>ConvexHullClassifier/KNNClassifier</td>\n",
       "    </tr>\n",
       "  </tbody>\n",
       "</table>\n",
       "<p>200 rows × 5 columns</p>\n",
       "</div>"
      ],
      "text/plain": [
       "     Precision    Recall        F1  Accuracy  \\\n",
       "0    -0.090909  0.514286 -0.090909  0.100000   \n",
       "1     0.833333  0.714286       NaN  0.366667   \n",
       "2          NaN  0.733333       NaN  0.366667   \n",
       "3     0.482353  0.615686  0.482353  0.433333   \n",
       "4     0.631579  0.104396  0.631579  0.433333   \n",
       "..         ...       ...       ...       ...   \n",
       "195  -0.600000 -0.318182 -0.600000 -0.233333   \n",
       "196  -0.300000 -0.478022 -0.300000 -0.266667   \n",
       "197  -0.357143 -0.554656 -0.357143 -0.133333   \n",
       "198  -0.140271 -0.046154 -0.140271 -0.133333   \n",
       "199  -0.625000 -0.659091 -0.625000 -0.433333   \n",
       "\n",
       "                                  Label  \n",
       "0    KNNClassifier/ConvexHullClassifier  \n",
       "1    KNNClassifier/ConvexHullClassifier  \n",
       "2    KNNClassifier/ConvexHullClassifier  \n",
       "3    KNNClassifier/ConvexHullClassifier  \n",
       "4    KNNClassifier/ConvexHullClassifier  \n",
       "..                                  ...  \n",
       "195  ConvexHullClassifier/KNNClassifier  \n",
       "196  ConvexHullClassifier/KNNClassifier  \n",
       "197  ConvexHullClassifier/KNNClassifier  \n",
       "198  ConvexHullClassifier/KNNClassifier  \n",
       "199  ConvexHullClassifier/KNNClassifier  \n",
       "\n",
       "[200 rows x 5 columns]"
      ]
     },
     "execution_count": 7,
     "metadata": {},
     "output_type": "execute_result"
    }
   ],
   "source": [
    "clfComparison = ClassifiersComparison(points, [KNNclf, CHclf], sampleSize=100, nSamples=100)\n",
    "meanDiff = clfComparison.run()\n",
    "meanDiff"
   ]
  },
  {
   "cell_type": "markdown",
   "metadata": {},
   "source": [
    "#### Plot dos histogramas de diferença média para as métricas entre os classificadores KNN e Convex Hull para as features (0, 1)"
   ]
  },
  {
   "cell_type": "code",
   "execution_count": 9,
   "metadata": {},
   "outputs": [
    {
     "data": {
      "text/plain": [
       "<matplotlib.lines.Line2D at 0x7f41660c36a0>"
      ]
     },
     "execution_count": 9,
     "metadata": {},
     "output_type": "execute_result"
    },
    {
     "data": {
      "image/png": "[encoded data removed]",
      "text/plain": [
       "<Figure size 1152x720 with 4 Axes>"
      ]
     },
     "metadata": {
      "needs_background": "light"
     },
     "output_type": "display_data"
    }
   ],
   "source": [
    "clfComparison.plotPairComparison('KNNClassifier/ConvexHullClassifier')"
   ]
  }
 ],
 "metadata": {
  "kernelspec": {
   "display_name": "Python 3.8.10 64-bit",
   "language": "python",
   "name": "python3"
  },
  "language_info": {
   "codemirror_mode": {
    "name": "ipython",
    "version": 3
   },
   "file_extension": ".py",
   "mimetype": "text/x-python",
   "name": "python",
   "nbconvert_exporter": "python",
   "pygments_lexer": "ipython3",
   "version": "3.8.10"
  },
  "orig_nbformat": 4,
  "vscode": {
   "interpreter": {
    "hash": "31f2aee4e71d21fbe5cf8b01ff0e069b9275f58929596ceb00d14d90e3e16cd6"
   }
  }
 },
 "nbformat": 4,
 "nbformat_minor": 2
}
