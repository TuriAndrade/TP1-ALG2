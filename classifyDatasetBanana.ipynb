{
 "cells": [
  {
   "cell_type": "code",
   "execution_count": null,
   "metadata": {},
   "outputs": [],
   "source": [
    "import sys\n",
    "sys.dont_write_bytecode = True\n",
    "\n",
    "from modules.point import PointDataset\n",
    "from modules.classifier import ConvexHullClassifier, KNNClassifier\n",
    "from random import choices\n",
    "import pandas as pd\n",
    "import matplotlib.pyplot as plt"
   ]
  },
  {
   "cell_type": "code",
   "execution_count": null,
   "metadata": {},
   "outputs": [],
   "source": [
    "dataset = PointDataset(\"./datasets/banana.dat\")\n",
    "points = dataset.getPoints()"
   ]
  },
  {
   "cell_type": "code",
   "execution_count": null,
   "metadata": {},
   "outputs": [],
   "source": [
    "CHclf = ConvexHullClassifier(0, 1, points)\n",
    "CHresults = CHclf.run()"
   ]
  },
  {
   "cell_type": "code",
   "execution_count": null,
   "metadata": {},
   "outputs": [],
   "source": [
    "CHresults[\"Cross Validation Metrics\"]"
   ]
  },
  {
   "cell_type": "code",
   "execution_count": null,
   "metadata": {},
   "outputs": [],
   "source": [
    "CHresults[\"Test Metrics\"]"
   ]
  },
  {
   "cell_type": "code",
   "execution_count": null,
   "metadata": {},
   "outputs": [],
   "source": [
    "KNNclf = KNNClassifier(points, maxK=30)\n",
    "KNNresults = KNNclf.run()"
   ]
  },
  {
   "cell_type": "code",
   "execution_count": null,
   "metadata": {},
   "outputs": [],
   "source": [
    "KNNresults[\"Cross Validation Metrics\"]"
   ]
  },
  {
   "cell_type": "code",
   "execution_count": null,
   "metadata": {},
   "outputs": [],
   "source": [
    "KNNresults[\"Test Metrics\"]"
   ]
  },
  {
   "cell_type": "code",
   "execution_count": null,
   "metadata": {},
   "outputs": [],
   "source": [
    "meanDiff = pd.DataFrame()\n",
    "\n",
    "for i in range(100):\n",
    "    pointSample = choices(points, k=1000)\n",
    "    \n",
    "    CHclf = ConvexHullClassifier(0, 1, pointSample)\n",
    "    CHresults = CHclf.run()[\"Test Metrics\"]\n",
    "\n",
    "    KNNclf = KNNClassifier(pointSample, maxK=30)\n",
    "    KNNresults = KNNclf.run()[\"Test Metrics\"]\n",
    "\n",
    "    meanCH = CHresults.mean()\n",
    "    meanKNN = KNNresults.mean()\n",
    "    meanDiff = pd.concat([meanDiff, (meanKNN - meanCH)], ignore_index=True, axis=1)\n",
    "\n",
    "meanDiff = meanDiff.transpose()"
   ]
  },
  {
   "cell_type": "code",
   "execution_count": null,
   "metadata": {},
   "outputs": [],
   "source": [
    "fig, ax = plt.subplots(2, 2, figsize=(16, 10))\n",
    "\n",
    "ax[0][0].hist(meanDiff[\"Precision\"], bins=20, label=\"Precision mean difference\", color='b')\n",
    "ax[0][0].legend()\n",
    "ax[0][0].axvline(x=0, color='r')\n",
    "\n",
    "ax[0][1].hist(meanDiff[\"Recall\"], bins=20, label=\"Recall mean difference\", color='b')\n",
    "ax[0][1].legend()\n",
    "ax[0][1].axvline(x=0, color='r')\n",
    "\n",
    "ax[1][0].hist(meanDiff[\"F1\"], bins=20, label=\"F1 mean difference\", color='b')\n",
    "ax[1][0].legend()\n",
    "ax[1][0].axvline(x=0, color='r')\n",
    "\n",
    "ax[1][1].hist(meanDiff[\"Accuracy\"], bins=20, label=\"Accuracy mean difference\", color='b')\n",
    "ax[1][1].legend()\n",
    "ax[1][1].axvline(x=0, color='r')"
   ]
  }
 ],
 "metadata": {
  "kernelspec": {
   "display_name": "Python 3.8.10 64-bit",
   "language": "python",
   "name": "python3"
  },
  "language_info": {
   "codemirror_mode": {
    "name": "ipython",
    "version": 3
   },
   "file_extension": ".py",
   "mimetype": "text/x-python",
   "name": "python",
   "nbconvert_exporter": "python",
   "pygments_lexer": "ipython3",
   "version": "3.8.10"
  },
  "orig_nbformat": 4,
  "vscode": {
   "interpreter": {
    "hash": "916dbcbb3f70747c44a77c7bcd40155683ae19c65e1c03b4aa3499c5328201f1"
   }
  }
 },
 "nbformat": 4,
 "nbformat_minor": 2
}
