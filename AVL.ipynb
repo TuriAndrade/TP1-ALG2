{
 "cells": [
  {
   "cell_type": "code",
   "execution_count": 1,
   "metadata": {},
   "outputs": [],
   "source": [
    "import sys\n",
    "sys.dont_write_bytecode = True"
   ]
  },
  {
   "cell_type": "code",
   "execution_count": 2,
   "metadata": {},
   "outputs": [
    {
     "name": "stdout",
     "output_type": "stream",
     "text": [
      "R----5\n",
      "     L----2\n",
      "     |    L----1\n",
      "     |    |    L----0\n",
      "     |    R----3\n",
      "     |         R----4\n",
      "     R----8\n",
      "          L----6\n",
      "          |    R----7\n",
      "          R----9\n",
      "1\n"
     ]
    }
   ],
   "source": [
    "import numpy as np\n",
    "from modules.AVLTree import AVLTree\n",
    " \n",
    "myTree = AVLTree()\n",
    "root = None\n",
    "nums = [3, 1, 2, 5, 6, 9, 0, 8, 7, 4]\n",
    "\n",
    "for n in nums:\n",
    "    myTree.insert(n)\n",
    "\n",
    "myTree.print()\n",
    "\n",
    "print(myTree.successor(0))\n"
   ]
  }
 ],
 "metadata": {
  "kernelspec": {
   "display_name": "Python 3.8.10 64-bit",
   "language": "python",
   "name": "python3"
  },
  "language_info": {
   "codemirror_mode": {
    "name": "ipython",
    "version": 3
   },
   "file_extension": ".py",
   "mimetype": "text/x-python",
   "name": "python",
   "nbconvert_exporter": "python",
   "pygments_lexer": "ipython3",
   "version": "3.8.10"
  },
  "orig_nbformat": 4,
  "vscode": {
   "interpreter": {
    "hash": "916dbcbb3f70747c44a77c7bcd40155683ae19c65e1c03b4aa3499c5328201f1"
   }
  }
 },
 "nbformat": 4,
 "nbformat_minor": 2
}
